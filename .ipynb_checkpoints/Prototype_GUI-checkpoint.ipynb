{
 "cells": [
  {
   "cell_type": "code",
   "execution_count": 26,
   "id": "a5e170d5",
   "metadata": {},
   "outputs": [
    {
     "name": "stdout",
     "output_type": "stream",
     "text": [
      "None {1: None, 'Browse': None, 3: None, 4: None, 5: None, 6: None, 7: None}\n"
     ]
    }
   ],
   "source": []
  },
  {
   "cell_type": "code",
   "execution_count": 106,
   "id": "3e2d79c5",
   "metadata": {},
   "outputs": [],
   "source": [
    "import PySimpleGUI as sg\n",
    "\n",
    "sg.theme(\"lightGrey2\")  # No gray windows please!\n",
    "# 컴포넌트 정의\n",
    "# STEP 1 define the layout\n",
    "\n",
    "\n",
    "left_column = [\n",
    "    [sg.Image(r\"C:\\Users\\jundo\\Graduation Project\\sample_img.png\", size=(200, 200))],\n",
    "    [sg.Text(\"리셉터 파일을 업로드\" , size=(30, 1),justification='center')],\n",
    "    [sg.Input(\"파일 경로 입력...\", size=(25, 1)), sg.FileBrowse(button_text='찾아보기...')],\n",
    "    [sg.Text(\"_\" * 35)],\n",
    "    [sg.Text(\"추천되는 파라미터\" , size=(30, 1),justification='center')],\n",
    "    [sg.Text(\"exhaustiveness : 8 \\n Grid 8 8 8 \",size=(30, 3),justification='center')],\n",
    "]\n",
    "\n",
    "\n",
    "right_column = [\n",
    "    [sg.Text(\"col Row 1\")],\n",
    "    [\n",
    "        sg.Frame(\n",
    "            \"My Frame Title\",\n",
    "            [\n",
    "                [sg.T(\"리간드 파일 선택\")],\n",
    "                [\n",
    "                    sg.Column(\n",
    "                        [\n",
    "                            [sg.Image(r\"folder_icon.png\", size=(60, 60))],\n",
    "                            [sg.Text(\"리셉터 폴더 선택\")],\n",
    "                        ],\n",
    "                        element_justification=\"center\",\n",
    "                    ),\n",
    "                    sg.Column(\n",
    "                        [\n",
    "                            [sg.Image(r\"db_icon.png\", size=(60, 60))],\n",
    "                            [sg.Text(\"온라인 DB 사용\")],\n",
    "                        ],\n",
    "                        element_justification=\"center\",\n",
    "                    ),\n",
    "                ],\n",
    "                [sg.Input(\"폴더 경로 입력...\", size=(25, 1)), sg.FolderBrowse(button_text='찾아보기...')],\n",
    "            ],\n",
    "        )\n",
    "    ],\n",
    "    [\n",
    "        sg.Table(\n",
    "            [[\"Dapagliflozin (1)\", \"대기중\", \"--:--:--\", \"--\", \"--\"], [4, 5, 6, 7, 8]],\n",
    "            [\"리간드 이름\", \"Docking 수행\", \"Docking 수행 시간\", \"결과 평가\", \"사용한 파라미터\"],\n",
    "            num_rows=2,\n",
    "            justification=\"center\",\n",
    "        )\n",
    "    ],\n",
    "]\n",
    "\n",
    "\n",
    "layout = [\n",
    "    [sg.Column(left_column, expand_y = True), sg.VerticalSeparator(pad=None), sg.Column(right_column,expand_y = True)],\n",
    "    [sg.Button(\"Button\"), sg.Button(\"Exit\")],\n",
    "]\n",
    "\n",
    "column = [[sg.Column(layout)]]\n",
    "# STEP 2 - create the window\n",
    "window = sg.Window(\"My new window\", column, grab_anywhere=True)\n",
    "\n",
    "# STEP3 - the event loop\n",
    "while True:\n",
    "    (\n",
    "        event,\n",
    "        values,\n",
    "    ) = window.read()  # Read the event that happened and the values dictionary\n",
    "    print(event, values)\n",
    "    if event in (\n",
    "        None,\n",
    "        \"Exit\",\n",
    "    ):  # If user closeddow with X or if user clicked \"Exit\" button then exit\n",
    "        break\n",
    "    if event == \"Button\":\n",
    "        print(\"You pressed the button\")\n",
    "window.close()\n"
   ]
  },
  {
   "cell_type": "code",
   "execution_count": 90,
   "id": "14b3924e",
   "metadata": {},
   "outputs": [],
   "source": []
  },
  {
   "cell_type": "code",
   "execution_count": null,
   "id": "6282aaa4",
   "metadata": {},
   "outputs": [],
   "source": []
  }
 ],
 "metadata": {
  "kernelspec": {
   "display_name": "Python 3 (ipykernel)",
   "language": "python",
   "name": "python3"
  },
  "language_info": {
   "codemirror_mode": {
    "name": "ipython",
    "version": 3
   },
   "file_extension": ".py",
   "mimetype": "text/x-python",
   "name": "python",
   "nbconvert_exporter": "python",
   "pygments_lexer": "ipython3",
   "version": "3.7.12"
  }
 },
 "nbformat": 4,
 "nbformat_minor": 5
}
