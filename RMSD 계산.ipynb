{
 "cells": [
  {
   "cell_type": "code",
   "execution_count": 1,
   "id": "53991117",
   "metadata": {},
   "outputs": [
    {
     "name": "stdout",
     "output_type": "stream",
     "text": [
      "2.3762881755828857\n"
     ]
    }
   ],
   "source": [
    "from pymol import cmd\n",
    "\n",
    "cmd.load('output_ligand_1.pdbqt')\n",
    "cmd.load('output_ligand_2.pdbqt')\n",
    "\n",
    "rms = cmd.pair_fit('output_ligand_1', 'output_ligand_2')\n",
    "\n",
    "print(rms)"
   ]
  },
  {
   "cell_type": "code",
   "execution_count": 2,
   "id": "edb994a4",
   "metadata": {},
   "outputs": [
    {
     "name": "stdout",
     "output_type": "stream",
     "text": [
      "tes2t\n"
     ]
    }
   ],
   "source": [
    "print('tes2t')"
   ]
  },
  {
   "cell_type": "code",
   "execution_count": null,
   "id": "1ac31caf",
   "metadata": {},
   "outputs": [],
   "source": []
  }
 ],
 "metadata": {
  "kernelspec": {
   "display_name": "Python 3 (ipykernel)",
   "language": "python",
   "name": "python3"
  },
  "language_info": {
   "codemirror_mode": {
    "name": "ipython",
    "version": 3
   },
   "file_extension": ".py",
   "mimetype": "text/x-python",
   "name": "python",
   "nbconvert_exporter": "python",
   "pygments_lexer": "ipython3",
   "version": "3.7.12"
  }
 },
 "nbformat": 4,
 "nbformat_minor": 5
}
